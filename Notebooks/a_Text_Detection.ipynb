{
  "cells": [
    {
      "cell_type": "markdown",
      "metadata": {
        "id": "c2e81f8c"
      },
      "source": [
        "# 0. Вступление"
      ],
      "id": "c2e81f8c"
    },
    {
      "cell_type": "markdown",
      "metadata": {
        "id": "8d850d48"
      },
      "source": [
        "В этом ноутбуке мы сделаем первую часть нашего приложения -- модель, которая детектирует строки текста на изображении. \n",
        "\n",
        "Следующие несколько ячеек будут общими для всех последующих ноутбуков."
      ],
      "id": "8d850d48"
    },
    {
      "cell_type": "markdown",
      "metadata": {
        "id": "74429166"
      },
      "source": [
        "* Эта ячейка настраивает отображение ipython widgets"
      ],
      "id": "74429166"
    },
    {
      "cell_type": "code",
      "execution_count": null,
      "metadata": {
        "id": "39929570"
      },
      "outputs": [],
      "source": [
        "from IPython.core.display import display, HTML\n",
        "display(HTML(\"<style>.container { width:80% !important; }</style>\"))\n",
        "%matplotlib inline"
      ],
      "id": "39929570"
    },
    {
      "cell_type": "markdown",
      "metadata": {
        "id": "L9l7q7uXMWSu"
      },
      "source": [
        "* Подключаем Google Drive"
      ],
      "id": "L9l7q7uXMWSu"
    },
    {
      "cell_type": "code",
      "execution_count": null,
      "metadata": {
        "id": "-Zr-lIS4M7II"
      },
      "outputs": [],
      "source": [
        "from google.colab import drive\n",
        "drive.mount('/content/drive')"
      ],
      "id": "-Zr-lIS4M7II"
    },
    {
      "cell_type": "markdown",
      "metadata": {
        "id": "Q_JJiFkCPzkA"
      },
      "source": [
        "* Указываем путь к папке с кодом: "
      ],
      "id": "Q_JJiFkCPzkA"
    },
    {
      "cell_type": "code",
      "source": [
        "repo_folder = '/content/drive/MyDrive/DeepLearning2/'"
      ],
      "metadata": {
        "id": "MvTRdw0utomB"
      },
      "id": "MvTRdw0utomB",
      "execution_count": null,
      "outputs": []
    },
    {
      "cell_type": "markdown",
      "source": [
        "* Устанавливаем зависимости"
      ],
      "metadata": {
        "id": "vy13l3D3DEhm"
      },
      "id": "vy13l3D3DEhm"
    },
    {
      "cell_type": "code",
      "execution_count": null,
      "metadata": {
        "id": "1AxH5yiBDMYO"
      },
      "outputs": [],
      "source": [
        "reqs_path = repo_folder + 'IntelligentDocumentProcessing/requirements.txt '\n",
        "!pip3 install -r {reqs_path}"
      ],
      "id": "1AxH5yiBDMYO"
    },
    {
      "cell_type": "markdown",
      "metadata": {
        "id": "WjVh19tLP9Qo"
      },
      "source": [
        "* Подключаем WandB"
      ],
      "id": "WjVh19tLP9Qo"
    },
    {
      "cell_type": "code",
      "execution_count": null,
      "metadata": {
        "id": "JMl83i1RUnHJ"
      },
      "outputs": [],
      "source": [
        "import wandb\n",
        "wandb_key = open('/content/drive/MyDrive/ssh/wandbkey.txt').read()\n",
        "wandb.login(key=wandb_key.strip())"
      ],
      "id": "JMl83i1RUnHJ"
    },
    {
      "cell_type": "markdown",
      "metadata": {
        "id": "2xvWzdmsUiEN"
      },
      "source": [
        "* Подключаем утилиты для этого ноутбука"
      ],
      "id": "2xvWzdmsUiEN"
    },
    {
      "cell_type": "code",
      "execution_count": null,
      "metadata": {
        "id": "bT_1fQe8PwCh"
      },
      "outputs": [],
      "source": [
        "import sys\n",
        "base_folder = repo_folder + 'IntelligentDocumentProcessing/Resources/a_Text_Detection/'\n",
        "sys.path.append(base_folder)"
      ],
      "id": "bT_1fQe8PwCh"
    },
    {
      "cell_type": "markdown",
      "metadata": {
        "id": "bea4d1d0"
      },
      "source": [
        "## Фиксируем генераторы случайных чисел "
      ],
      "id": "bea4d1d0"
    },
    {
      "cell_type": "markdown",
      "metadata": {
        "id": "ee76941b"
      },
      "source": [
        "Почти всегда очень важна воспроизводимость эксперимента: сможем ли мы повторить результаты, которые получили в опыте. С другой стороны, в глубоком обучении очень многое зависит от значений, которые выдают генераторы случайных чисел. Поэтому очень важно убедиться в том, что генерируемые нами случайные значения будут одинаковы от запуска к запуску, если ничего не изменяется.\n",
        "\n",
        "Для достижения воспроизводимости, нужно грамотно инициализировать все используемые генераторы случайных чисел. Это и происходит в следующей функции."
      ],
      "id": "ee76941b"
    },
    {
      "cell_type": "code",
      "execution_count": null,
      "metadata": {
        "id": "2e59f539"
      },
      "outputs": [],
      "source": [
        "from utils import set_seed\n",
        "\n",
        "set_seed(17)"
      ],
      "id": "2e59f539"
    },
    {
      "cell_type": "markdown",
      "metadata": {
        "id": "2ce6e678"
      },
      "source": [
        "# 1. Данные"
      ],
      "id": "2ce6e678"
    },
    {
      "cell_type": "markdown",
      "metadata": {
        "id": "df01f6c7"
      },
      "source": [
        "При разработке этого модуля, мы будем использовать данные из датасета [HierText](https://github.com/google-research-datasets/hiertext) от Google Research.\n",
        "\n",
        "Данные разложены по папкам `train` и `validation`, разметка -- по файлам `train.jsonl` и `validation.jsonl`.\n",
        "\n",
        "Наша задача на этом этапе -- считать и проанализировать данные из файлов, а затем сделать класс, который умеет возвращать изображение с разметкой по индексу изображения. \n",
        "\n",
        "Это достаточно простая инженерная задача, для которой требуется написать много кода. Этот код постоянно изменяется от задачи к задаче и конкретная реализация этого этапа важна только для определенной задачи. Поэтому мы предлагаем просто ознакомиться с нашей реализацией класса, который подгружает информацию из банка данных. Класс называется `HierTextAdapter` и имеет следующий интерфейс (описаны не все методы, а только ключевые):\n",
        "\n",
        "```python\n",
        "class HierTextAdapter(BaseAdapter): \n",
        "  '''\n",
        "  В базовом адаптере реализован общий функционал, например, методы, \n",
        "  которые не меняются от датасета к датасету. \n",
        "  '''\n",
        "  def load_anns(self):\n",
        "    '''\n",
        "    Метод загружает данные из разметки в формате JSON.\n",
        "    '''\n",
        "    pass\n",
        "  \n",
        "  def prepare_ann(ann):\n",
        "    '''\n",
        "    Метод приводит один элемент разметки к стандартизированному\n",
        "    виду, чтобы разметку можно было подавать в модель или \n",
        "    функцию потерь и метрики. \n",
        "    '''\n",
        "    pass\n",
        "  \n",
        "  def __getitem__(self, idx) -> Item:\n",
        "    '''\n",
        "    Метод возвращает всю информацию об одном элементе разметки: \n",
        "    название изображения, изображение и всю информацию об этом\n",
        "    изображении из разметки. \n",
        "    '''\n",
        "    pass\n",
        "```\n",
        "\n",
        "В общем случае такого рода классы пишутся следующим образом: берется одно изображение и соответствующая ему разметка из базы данных. Далее разметка преобразуется так, чтобы с ней можно было сравнить выход из модели. Очень важно визуализировать соответствие объекта и изображения. Если соответствия нет, то происходит поиск ошибок в преобразовании разметки до тех пор, пока она не будет соответствовать изображению. Если соответствие наблюдается уже на нескольких изображениях, то очень высока вероятность того, что все сделано правильно, и полученный код можно обернуть в класс или функцию (класс обычно лучше). \n",
        "\n",
        "Однако иногда бывают ситуации, когда некоторые изображения, например, неправильно ориентированы или хранятся в другом формате. Поэтому очень часто необходимо достаточно долго глазами отсматривать датасет на предмет неприятных ошибок и несоответствия разметки изображению, причем время, которое нужно на это потратить, заранее сложно прогнозировать. Очень часто бывает так, что в датасете присутствует несколько \"битых\" объектов, которые значительно портят модель в процессе обучения. Так что этот этап не стоит недооценивать.\n",
        "\n",
        "Обычно процесс написания класса для считывания данных занимает от *нескольких часов* (в случае с хорошо документированными или структурированными данными) *до недели* (сложные, плохо документированные данные)."
      ],
      "id": "df01f6c7"
    },
    {
      "cell_type": "markdown",
      "metadata": {
        "id": "1868af66"
      },
      "source": [
        "## 1.1. Загрузка данных"
      ],
      "id": "1868af66"
    },
    {
      "cell_type": "markdown",
      "source": [
        "Загрузка может занять несколько минут, так как датасет достаточно большой. "
      ],
      "metadata": {
        "id": "H3GYAony29-z"
      },
      "id": "H3GYAony29-z"
    },
    {
      "cell_type": "code",
      "execution_count": null,
      "metadata": {
        "id": "7adef380"
      },
      "outputs": [],
      "source": [
        "%%time\n",
        "\n",
        "from utils import HierTextAdapter\n",
        "\n",
        "# HierText\n",
        "train_hiertext_adapter = HierTextAdapter(\n",
        "    ann_path='/content/drive/MyDrive/data/hiertext/train.jsonl',\n",
        "    img_dir='/content/drive/MyDrive/data/hiertext/train',\n",
        "    unclip_ratio=0,\n",
        "    fit_min_rot_box=False,\n",
        "    in_memory=False\n",
        ")\n",
        "\n",
        "train_adapters = [\n",
        "    train_hiertext_adapter,\n",
        "]\n",
        "_ = [a[0] for a in train_adapters]\n",
        "\n",
        "# HierText\n",
        "val_hiertext_adapter = HierTextAdapter(\n",
        "    ann_path='/content/drive/MyDrive/data/hiertext/validation.jsonl',\n",
        "    img_dir='/content/drive/MyDrive/data/hiertext/validation',\n",
        "    unclip_ratio=0,\n",
        "    fit_min_rot_box=False,\n",
        "    in_memory=False\n",
        ")\n",
        "\n",
        "val_adapters = [\n",
        "    val_hiertext_adapter,\n",
        "]\n",
        "_ = [a[0] for a in val_adapters]"
      ],
      "id": "7adef380"
    },
    {
      "cell_type": "markdown",
      "metadata": {
        "id": "d723e69b"
      },
      "source": [
        "### 1.1.1. Визуализация"
      ],
      "id": "d723e69b"
    },
    {
      "cell_type": "markdown",
      "metadata": {
        "id": "f949b2f9"
      },
      "source": [
        "В процессе подготовки данных к обучению, очень важно визуализировать соответствие данных и входного сигнала. Для отображения мы реализовали класс `DrawMore`. Реализация такого класса -- это тоже инженерная задача, и код также может изменяться от случая к случаю, поэтому с конкретной реализацией в нашем случае можете ознакомиться в соответствующем файле `utils/drawmore.py`.\n",
        "\n",
        "Для визуализации обычно используется библиотека `cv2`. Отображение обычно происходит при помощи `matplotlib`."
      ],
      "id": "f949b2f9"
    },
    {
      "cell_type": "code",
      "execution_count": null,
      "metadata": {
        "id": "cf018e81"
      },
      "outputs": [],
      "source": [
        "import matplotlib.pyplot as plt\n",
        "from utils import DrawMore\n",
        "\n",
        "item = train_hiertext_adapter[6]\n",
        "\n",
        "plt.figure(figsize=(15,20))\n",
        "plt.imshow(DrawMore.draw_contours(item.img, item.word_polygons, thickness=1))\n",
        "plt.show()"
      ],
      "id": "cf018e81"
    },
    {
      "cell_type": "markdown",
      "metadata": {
        "id": "07c3e904"
      },
      "source": [
        "### 1.1.2. Подсчет статистик"
      ],
      "id": "07c3e904"
    },
    {
      "cell_type": "markdown",
      "metadata": {
        "id": "9b5f311b"
      },
      "source": [
        "Очень часто неприятная проблема может возникнуть, если не проверить, что все изображения можно считать и построить визуализацию, поэтому стоит хотя бы по разу считать каждое изображение. Это может занимать довольно продолжительное время, поэтому можно также посчитать какие-нибудь статистики в банке данных."
      ],
      "id": "9b5f311b"
    },
    {
      "cell_type": "markdown",
      "metadata": {
        "id": "03e79d15"
      },
      "source": [
        "#### Задача 1. Статистика Bounding Box-ов"
      ],
      "id": "03e79d15"
    },
    {
      "cell_type": "markdown",
      "source": [
        "Задача состоит в том, чтобы посчитать статистику по длине/ширине изображений в адаптере `val_hiertext_adapter`. У нас есть вспомогательный файл, который пригодится для этой и следующей задачи. Это список длиной с валидационную выборку, где для каждого изображения сохранены координаты всех полигонов и размерности изображения. Давайте его сначала загрузим и посмотрим на него:"
      ],
      "metadata": {
        "id": "GetJ7mLY76c0"
      },
      "id": "GetJ7mLY76c0"
    },
    {
      "cell_type": "code",
      "source": [
        "import json\n",
        "\n",
        "with open(base_folder + 'resources/bboxes_and_shapes_by_image.json', 'r') as r:\n",
        "  bboxes_and_shapes_by_image = json.load(r)\n",
        "\n",
        "assert len(bboxes_and_shapes_by_image) == len(val_hiertext_adapter)\n",
        "print(f'Количество слов на первом изображении: {len(bboxes_and_shapes_by_image[0][0])}')\n",
        "print(f'Первый bounding box на первом изображении: {bboxes_and_shapes_by_image[0][0][0]}')\n",
        "print(f'Размер первого изображения: {bboxes_and_shapes_by_image[0][1]}')"
      ],
      "metadata": {
        "id": "kX_0jUQJ8PIt"
      },
      "id": "kX_0jUQJ8PIt",
      "execution_count": null,
      "outputs": []
    },
    {
      "cell_type": "markdown",
      "metadata": {
        "id": "2135015c"
      },
      "source": [
        "Ваша задача: собрать в переменные `widths` и `heights` ширину и высоту для каждого ббокса (должны быть два списка типа `float`). Есть один нюанс: полигоны, которые будет возвращать адаптер, не параллельны осям координат (другими словами, это повернутые прямоугольники). Поэтому высоту/ширину вычислять будет не так просто, но можно воспользоваться, например, методом `cv2.minAreaRect`. "
      ],
      "id": "2135015c"
    },
    {
      "cell_type": "markdown",
      "metadata": {
        "id": "afea28df"
      },
      "source": [
        "##### Код"
      ],
      "id": "afea28df"
    },
    {
      "cell_type": "code",
      "execution_count": null,
      "metadata": {
        "id": "fda2b686"
      },
      "outputs": [],
      "source": [
        "# КОД ДЛЯ СТУДЕНТА\n",
        "widths = ...\n",
        "heights = ..."
      ],
      "id": "fda2b686"
    },
    {
      "cell_type": "code",
      "execution_count": null,
      "metadata": {
        "id": "9cde0749",
        "scrolled": false
      },
      "outputs": [],
      "source": [
        "# РЕШЕНИЕ (пример)\n",
        "import cv2\n",
        "\n",
        "all_bboxes = [bbox \n",
        "              for word_polygons, _ in bboxes_and_shapes_by_image \n",
        "              for bbox in word_polygons]\n",
        "\n",
        "widths = []\n",
        "heights = []\n",
        "for bbox in all_bboxes:\n",
        "    (_, _), (w, h), _ = cv2.minAreaRect(np.array(bbox))\n",
        "    widths.append(w)\n",
        "    heights.append(h)"
      ],
      "id": "9cde0749"
    },
    {
      "cell_type": "markdown",
      "metadata": {
        "id": "d8700f22"
      },
      "source": [
        "#### Проверка"
      ],
      "id": "d8700f22"
    },
    {
      "cell_type": "code",
      "source": [
        "all_polygons_len = len([bbox \n",
        "                        for one_image_bboxes, _ in bboxes_and_shapes_by_image \n",
        "                        for bbox in one_image_bboxes])\n",
        "assert len(widths) == all_polygons_len, 'Длина списка widths не равняется общему количеству боксов.'\n",
        "assert len(heights) == all_polygons_len, 'Длина списка heights не равняется общему количеству боксов.'\n",
        "\n",
        "assert hash(tuple(sorted(widths))) == 187338010177957256, 'Список widths построен некорректно.'\n",
        "assert hash(tuple(sorted(heights))) == -5793582464695214423, 'Список heights построен некорректно.'"
      ],
      "metadata": {
        "id": "tmYwKO5iefRX"
      },
      "id": "tmYwKO5iefRX",
      "execution_count": null,
      "outputs": []
    },
    {
      "cell_type": "code",
      "execution_count": null,
      "metadata": {
        "id": "4cb6d90f"
      },
      "outputs": [],
      "source": [
        "plt.figure(figsize=(15, 5))\n",
        "plt.hist(widths, bins=70, alpha=0.5)\n",
        "plt.hist(heights, bins=70, alpha=0.5)\n",
        "plt.show()"
      ],
      "id": "4cb6d90f"
    },
    {
      "cell_type": "markdown",
      "metadata": {
        "id": "8895c5d8"
      },
      "source": [
        "Обратите внимание на распределение по высоте/ширине. Можно ли сказать, что размеры боксов имеют большое разнообразие? Как можно решить проблему в том случае, если все боксы более-менее одинакового размера на всем датасете, а в реальной жизни они могут быть совершенно разных размеров? \n"
      ],
      "id": "8895c5d8"
    },
    {
      "cell_type": "markdown",
      "metadata": {
        "id": "4b57b7bb"
      },
      "source": [
        "#### Задача 2 (опциональная). Heatmap слов на изображениях"
      ],
      "id": "4b57b7bb"
    },
    {
      "cell_type": "markdown",
      "source": [
        "Мы выяснили, какие размеры имеют боксы в нашем датасете. Но также неплохо было бы понять, где они находятся на изображениях. Вдруг они все в центре картинки? "
      ],
      "metadata": {
        "id": "y089xq03iZXg"
      },
      "id": "y089xq03iZXg"
    },
    {
      "cell_type": "markdown",
      "metadata": {
        "id": "a4e4e74a"
      },
      "source": [
        "Ваша задача: необходимо на маске размером $500 \\times 500$ пикселей отобразить тепловую карту для всех bounding box-ов на всех изображениях. \n",
        "\n",
        "Каждый пиксель целевой маски будет иметь значения от 0 до 1 и показывать, на каком проценте изображений тот или иной пиксель был в пределах bbox-а для слова. Например, если пиксель в точке (10, 10) был в пределах какого-то слова на 10 изображениях из 100, то значение этого пикселя будет 0.1. \n",
        "\n",
        "Для этого мы можем переиспользовать переменную `bboxes_and_shapes_by_image` из предыдущего задания и достать из нее полигоны и размеры картинок, так как все bbox-ы нам необходимо будет перевести из размера исходной картинки в размер $500 \\times 500$.  \n",
        "\n",
        "Также после каждой нормировки необходимо округлять значения bbox-ов с помощью `np.round`. "
      ],
      "id": "a4e4e74a"
    },
    {
      "cell_type": "markdown",
      "metadata": {
        "id": "04760288"
      },
      "source": [
        "##### Код"
      ],
      "id": "04760288"
    },
    {
      "cell_type": "code",
      "execution_count": null,
      "metadata": {
        "id": "8af4111c"
      },
      "outputs": [],
      "source": [
        "# КОД ДЛЯ СТУДЕНТА\n",
        "from typing import List, Tuple\n",
        "import numpy as np\n",
        "\n",
        "def make_heatmap(\n",
        "    bboxes_and_shapes_by_image: List[Tuple[List[np.ndarray], List[Tuple]]],\n",
        "    adapter: HierTextAdapter, \n",
        "    res_w: int = 500, \n",
        "    res_h: int = 500\n",
        ") -> np.ndarray:\n",
        "    pass"
      ],
      "id": "8af4111c"
    },
    {
      "cell_type": "markdown",
      "metadata": {
        "id": "d5fddbb5"
      },
      "source": [
        "#### Проверка"
      ],
      "id": "d5fddbb5"
    },
    {
      "cell_type": "code",
      "execution_count": null,
      "metadata": {
        "id": "d608d25a"
      },
      "outputs": [],
      "source": [
        "heatmap = make_heatmap(bboxes_and_shapes_by_image, 500, 500)\n",
        "\n",
        "plt.figure(figsize=(8, 8))\n",
        "plt.imshow(heatmap)\n",
        "plt.colorbar()\n",
        "plt.show()"
      ],
      "id": "d608d25a"
    },
    {
      "cell_type": "code",
      "source": [
        "assert heatmap.shape == (500, 500), 'Размер тепловой карты должен быть равен 500 x 500.'\n",
        "\n",
        "# сравним с правильной тепловой картой\n",
        "true_heatmap = np.load(base_folder+'resources/true_heatmap.npy')\n",
        "diff = np.sum(np.abs(true_heatmap - heatmap))\n",
        "msg = f'Ваша тепловая карта не сходится с истинной. Разница: {diff}'\n",
        "assert np.allclose(true_heatmap, heatmap, atol=1e-4), msg"
      ],
      "metadata": {
        "id": "7Fl7_W8zmCMX"
      },
      "id": "7Fl7_W8zmCMX",
      "execution_count": null,
      "outputs": []
    },
    {
      "cell_type": "markdown",
      "metadata": {
        "id": "955ad79b"
      },
      "source": [
        "Из этих двух задач мы можем сделать один важный вывод - bounding box-ы у нас в основном небольшие и их нет по краям. Обе эти проблемы можно решить несколькими способами: \n",
        "* Использовать не оригинальные изображение, а вырезать случайные участки изображений;\n",
        "* Приближать и отдалять изображения;\n",
        "* Какие еще способы? "
      ],
      "id": "955ad79b"
    },
    {
      "cell_type": "markdown",
      "metadata": {
        "id": "239888af"
      },
      "source": [
        "## 1.2. Аугментации и подготовка DataLoader"
      ],
      "id": "239888af"
    },
    {
      "cell_type": "markdown",
      "metadata": {
        "id": "62e0646c"
      },
      "source": [
        "### 1.2.1. Аугментации"
      ],
      "id": "62e0646c"
    },
    {
      "cell_type": "markdown",
      "metadata": {
        "id": "60010386"
      },
      "source": [
        "Для улучшения устойчивости модели к небольшим изменениям, используем аугментации.\n",
        "\n",
        "Аугментации традиционно делятся на три части:\n",
        "\n",
        "1. Предобработка\n",
        "2. Собственно аугментации\n",
        "3. Постобработка"
      ],
      "id": "60010386"
    },
    {
      "cell_type": "markdown",
      "metadata": {
        "id": "eda65645"
      },
      "source": [
        "Сначала определим предобработку, а потом перейдем к содержательным аугментациям. \n",
        "\n",
        "В предобработке мы будем приводить все изображения к фиксированному размеру $2048 \\times 2048$ с сохранением соотношений сторон. Для этого самую большую сторону изображения мы будем приводить к размеру $2048$, а затем добавлять другое измерение надставлять нулями до $2048$ пикселей."
      ],
      "id": "eda65645"
    },
    {
      "cell_type": "code",
      "execution_count": null,
      "metadata": {
        "id": "15467a9c"
      },
      "outputs": [],
      "source": [
        "import albumentations as A\n",
        "\n",
        "size = 512\n",
        "size_transform = A.Compose([\n",
        "    A.LongestMaxSize(\n",
        "        max_size=size,\n",
        "        p=1.0,\n",
        "    ),\n",
        "    A.PadIfNeeded(\n",
        "        min_height=size,\n",
        "        min_width=size,\n",
        "        border_mode=cv2.BORDER_CONSTANT,\n",
        "        value=0,\n",
        "        mask_value=None,\n",
        "        always_apply=False,\n",
        "        p=1.0,\n",
        "    ),\n",
        "])"
      ],
      "id": "15467a9c"
    },
    {
      "cell_type": "markdown",
      "metadata": {
        "id": "1f47b388"
      },
      "source": [
        "#### Задача 3. Подбор аугментаций"
      ],
      "id": "1f47b388"
    },
    {
      "cell_type": "markdown",
      "source": [
        "Эта задача будет поделена на 4 небольшие части:\n",
        "1. Аугментации с изменением цветов\n",
        "2. Аугментации с шумом\n",
        "3. Аугментации с перспективными изменениями\n",
        "4. Сборка всех аугментаций. \n",
        "\n",
        "Каждую аугментацию можно предварительно посмотреть в [демо от albumentations](https://albumentations-demo.herokuapp.com/). \n",
        "\n",
        "Обратите внимание, что каждая группа преобразований будет внутри контейнера `A.OneOf`. Это значит, что при каждом его вызове будет случайным образом выбираться одна из аугментаций, прописанных внутри. Поэтому для каждой необходимо прописывать параметр `p`, от которого зависит вероятность выбора той или иной аугментации. Все параметры `p` внутри `A.OneOf` нормируются, поэтому они не должны в сумме давать 1 или быть от 0 до 1, то есть это больше не вероятности, а веса. \n",
        "\n",
        "Все аугментации будет тестировать на этом примере: "
      ],
      "metadata": {
        "id": "LAgpoDBeAtkZ"
      },
      "id": "LAgpoDBeAtkZ"
    },
    {
      "cell_type": "code",
      "source": [
        "image = cv2.imread(base_folder+'examples/example_itw.jpeg')\n",
        "image = cv2.cvtColor(image, cv2.COLOR_BGR2RGB)"
      ],
      "metadata": {
        "id": "8CzIApq8D10X"
      },
      "id": "8CzIApq8D10X",
      "execution_count": null,
      "outputs": []
    },
    {
      "cell_type": "markdown",
      "source": [
        "##### 3.1 Аугментации с изменением цветов"
      ],
      "metadata": {
        "id": "Veaaf7AFAfbK"
      },
      "id": "Veaaf7AFAfbK"
    },
    {
      "cell_type": "markdown",
      "source": [
        "Часто бывает, что какой-то домен имеет определенные свойства изображений - например, в документах почти всегда черный текст на белом фоне. Но в задаче scene text detection это не так - изображения могут быть любого цвета и шрифты могут быть очень разными. Чтобы эмулировать это в процессе обучения мы будем использовать преобразования, которые так или иначе изменяют цвета на исходном изображении: `RandomBrightnessContrast`, `RGBShift`, и `ChannelShuffle`. \n",
        "\n",
        "Также выбирайте параметры такие, чтобы текст не пропадал с изображения и чтобы он был читабельным, иначе модель не сможет обобщиться на данных, на которых нет текста. "
      ],
      "metadata": {
        "id": "M21DUqtnA9P-"
      },
      "id": "M21DUqtnA9P-"
    },
    {
      "cell_type": "code",
      "source": [
        "NROWS = 3\n",
        "NCOLS = 6\n",
        "FIGSIZE = (24, 12)"
      ],
      "metadata": {
        "id": "P5thAL6Q-5TX"
      },
      "id": "P5thAL6Q-5TX",
      "execution_count": null,
      "outputs": []
    },
    {
      "cell_type": "markdown",
      "source": [
        "###### Код"
      ],
      "metadata": {
        "id": "YmiV7OZ2Cbl1"
      },
      "id": "YmiV7OZ2Cbl1"
    },
    {
      "cell_type": "code",
      "source": [
        "# КОД ДЛЯ СТУДЕНТА\n",
        "color_transforms = A.OneOf([\n",
        "    A.RandomBrightnessContrast(...),\n",
        "    A.RGBShift(...),\n",
        "    A.ChannelShuffle(...),\n",
        "])"
      ],
      "metadata": {
        "id": "iTIDh7YlCoHF"
      },
      "id": "iTIDh7YlCoHF",
      "execution_count": null,
      "outputs": []
    },
    {
      "cell_type": "markdown",
      "source": [
        "###### Проверка"
      ],
      "metadata": {
        "id": "H9_8H5YaD38D"
      },
      "id": "H9_8H5YaD38D"
    },
    {
      "cell_type": "code",
      "source": [
        "fig, axs = plt.subplots(NROWS, NCOLS, figsize=FIGSIZE)\n",
        "axs[0, 0].imshow(image)\n",
        "axs[0, 0].set_title('Original')\n",
        "for i in range(1, 18):\n",
        "  col = i % NCOLS\n",
        "  row = i // NCOLS\n",
        "  image_transformed = color_transforms(image=image)['image']\n",
        "  axs[row, col].imshow(image_transformed)\n",
        "  axs[row, col].set_title(f'Transformed {i}')\n",
        "plt.show()"
      ],
      "metadata": {
        "id": "l9jLPAGv6fr4"
      },
      "id": "l9jLPAGv6fr4",
      "execution_count": null,
      "outputs": []
    },
    {
      "cell_type": "markdown",
      "source": [
        "##### 3.2 Аугментации с шумом"
      ],
      "metadata": {
        "id": "oaDzvzvSHqTk"
      },
      "id": "oaDzvzvSHqTk"
    },
    {
      "cell_type": "markdown",
      "source": [
        "Также в арсенале аугментаций обязательно должны быть различные шумы. Опять-таки на примере документов - фоны там обычно идеально ровные и монотонные, чего в реальной жизни (in the wild) почти не бывает. Поэтому мы добавляем шумы типа `GaussNoise` и `ISONoise`. Исходя из названий, как вы думаете, чем отличаются эти шумы? \n",
        "\n",
        "Опять же, перебарщивать не стоит, так как излишнее зашумление может только помешать. "
      ],
      "metadata": {
        "id": "h919z4WoJtus"
      },
      "id": "h919z4WoJtus"
    },
    {
      "cell_type": "markdown",
      "source": [
        "###### Код"
      ],
      "metadata": {
        "id": "r2NhwCenILmS"
      },
      "id": "r2NhwCenILmS"
    },
    {
      "cell_type": "code",
      "source": [
        "# КОД ДЛЯ СТУДЕНТА\n",
        "noise_transforms = A.OneOf([\n",
        "    A.GaussNoise(...),\n",
        "    A.ISONoise(...)\n",
        "])"
      ],
      "metadata": {
        "id": "XTg7tBw6Fab0"
      },
      "id": "XTg7tBw6Fab0",
      "execution_count": null,
      "outputs": []
    },
    {
      "cell_type": "markdown",
      "source": [
        "###### Проверка"
      ],
      "metadata": {
        "id": "tYVNUG9RINSU"
      },
      "id": "tYVNUG9RINSU"
    },
    {
      "cell_type": "code",
      "source": [
        "fig, axs = plt.subplots(NROWS, NCOLS, figsize=FIGSIZE)\n",
        "axs[0, 0].imshow(image)\n",
        "axs[0, 0].set_title('Original')\n",
        "for i in range(1, 18):\n",
        "  col = i % NCOLS\n",
        "  row = i // NCOLS\n",
        "  image_transformed = noise_transforms(image=image)['image']\n",
        "  axs[row, col].imshow(image_transformed)\n",
        "  axs[row, col].set_title(f'Transformed {i}')\n",
        "plt.show()"
      ],
      "metadata": {
        "id": "JmG8viMKDvra"
      },
      "id": "JmG8viMKDvra",
      "execution_count": null,
      "outputs": []
    },
    {
      "cell_type": "markdown",
      "source": [
        "##### 3.3 Аугментации с перспективными изменениями"
      ],
      "metadata": {
        "id": "e_2y4_rZJi_S"
      },
      "id": "e_2y4_rZJi_S"
    },
    {
      "cell_type": "markdown",
      "source": [
        "Это, наверное, самый интересный набор аугментаций. Мы уже видели на тепловой карте bounding box'ов то, что текст по краям изображения встречается реже, чем в центре, а также мы сами, посмотрев на улицу, можем заметить разнообразие форм и размеров текстов, которые нас окружают. Для того, чтобы это симулировать, предлагаем использовать аугментации `RandomRotate90` (поворот на угол, кратный 90 градусам), `ShiftScaleRotate` (сдвиг, изменение масштаба и поворот на произвольынй угол) и `Perspective` (четыре точки угла изображения случайным образом перемещаются, создавае перспективное искажение). \n",
        "\n",
        "Важно в этих аугментациях соблюдать осторожность при выборе параметров. Например, если задавать большой `shift` в `ShiftScaleRotate`, то весь текст с изображения может пропасть. Также в этом преобразовании нет смысла указывать углы больше 45 градусов, поскольку совместно с `RandomRotate90` уже покрываются все возможные 360 градусов (здесь в качестве контейнера выступает не `OneOf`, а `Compose`, в котором аугментации вызываются последовательно, каждая с вероятностью `p`). "
      ],
      "metadata": {
        "id": "INm0MHWoKi03"
      },
      "id": "INm0MHWoKi03"
    },
    {
      "cell_type": "markdown",
      "source": [
        "###### Код"
      ],
      "metadata": {
        "id": "0xUyWop5Ji_T"
      },
      "id": "0xUyWop5Ji_T"
    },
    {
      "cell_type": "code",
      "source": [
        "# КОД ДЛЯ СТУДЕНТА\n",
        "geometric_transforms = A.Compose([\n",
        "    A.RandomRotate90(...),\n",
        "    A.ShiftScaleRotate(...),\n",
        "    A.Perspective(...),\n",
        "])"
      ],
      "metadata": {
        "id": "_u-9JAtdJi_T"
      },
      "execution_count": null,
      "outputs": [],
      "id": "_u-9JAtdJi_T"
    },
    {
      "cell_type": "markdown",
      "source": [
        "###### Проверка"
      ],
      "metadata": {
        "id": "B6GmnGIRJi_T"
      },
      "id": "B6GmnGIRJi_T"
    },
    {
      "cell_type": "code",
      "source": [
        "fig, axs = plt.subplots(NROWS, NCOLS, figsize=FIGSIZE)\n",
        "axs[0, 0].imshow(image)\n",
        "axs[0, 0].set_title('Original')\n",
        "for i in range(1, 18):\n",
        "  col = i % NCOLS\n",
        "  row = i // NCOLS\n",
        "  image_transformed = geometric_transforms(image=image)['image']\n",
        "  axs[row, col].imshow(image_transformed)\n",
        "  axs[row, col].set_title(f'Transformed {i}')\n",
        "plt.show()"
      ],
      "metadata": {
        "id": "AC61DbO7Ji_T"
      },
      "execution_count": null,
      "outputs": [],
      "id": "AC61DbO7Ji_T"
    },
    {
      "cell_type": "markdown",
      "source": [
        "##### 3.4 Сборка всех аугментаций"
      ],
      "metadata": {
        "id": "GXVIyfEpNpK3"
      },
      "id": "GXVIyfEpNpK3"
    },
    {
      "cell_type": "markdown",
      "source": [
        "Остается собрать воедино все преобразования, которые вы объявили выше: "
      ],
      "metadata": {
        "id": "haYVAdO8OATb"
      },
      "id": "haYVAdO8OATb"
    },
    {
      "cell_type": "markdown",
      "metadata": {
        "id": "a538b638"
      },
      "source": [
        "###### Код"
      ],
      "id": "a538b638"
    },
    {
      "cell_type": "code",
      "execution_count": null,
      "metadata": {
        "id": "a88cf543"
      },
      "outputs": [],
      "source": [
        "# КОД ДЛЯ СТУДЕНТА\n",
        "train_transform = A.Compose([\n",
        "    size_transform,\n",
        "    \n",
        "    A.OneOf([\n",
        "        # изменения цветов\n",
        "    ], p=...),\n",
        "    A.InvertImg(p=0.1),\n",
        "    A.HueSaturationValue(p=0.2, hue_shift_limit=20, sat_shift_limit=30, val_shift_limit=20),\n",
        "    A.OneOf([\n",
        "        # шум\n",
        "    ], p=...),\n",
        "    A.OneOf([\n",
        "        # перспективные изменения\n",
        "    ], p=...),\n",
        "    A.ToGray(p=0.3),\n",
        "])"
      ],
      "id": "a88cf543"
    },
    {
      "cell_type": "markdown",
      "metadata": {
        "id": "7357e380"
      },
      "source": [
        "Далее мы загружаем 2 картинки - оригинальную и уже с готовыми аугментациямиями (референс). Запустите ячейку с отрисовкой этих изображений и сравните свои аугментации с референсом. Можете запустить ячейку с отрисовкой несколько раз, чтобы посмотреть на различные комбинации аугментаций. "
      ],
      "id": "7357e380"
    },
    {
      "cell_type": "markdown",
      "metadata": {
        "id": "69a7a07c"
      },
      "source": [
        "###### Проверка"
      ],
      "id": "69a7a07c"
    },
    {
      "cell_type": "code",
      "execution_count": null,
      "metadata": {
        "id": "8778a6c8"
      },
      "outputs": [],
      "source": [
        "image = cv2.imread(base_folder+'examples/example_itw.jpeg')\n",
        "image = cv2.cvtColor(image, cv2.COLOR_BGR2RGB)\n",
        "image_auged_ref = cv2.imread(base_folder+'examples/example_itw_auged.jpeg')\n",
        "image_auged_ref = cv2.cvtColor(image_auged_ref, cv2.COLOR_BGR2RGB)"
      ],
      "id": "8778a6c8"
    },
    {
      "cell_type": "code",
      "source": [
        "fig, axs = plt.subplots(NROWS, NCOLS, figsize=FIGSIZE)\n",
        "axs[0, 0].imshow(image)\n",
        "axs[0, 0].set_title('Original')\n",
        "axs[0, 1].imshow(image_auged_ref)\n",
        "axs[0, 1].set_title('Reference')\n",
        "for i in range(2, 18):\n",
        "  col = i % NCOLS\n",
        "  row = i // NCOLS\n",
        "  # здесь используем train_transform[1:] для того, чтобы все картинки остались одного размера\n",
        "  image_transformed = A.Compose(train_transform[1:])(image=image)['image']\n",
        "  axs[row, col].imshow(image_transformed)\n",
        "  axs[row, col].set_title(f'Transformed {i-1}')\n",
        "plt.show()"
      ],
      "metadata": {
        "id": "BF_V7fmX_S6t"
      },
      "id": "BF_V7fmX_S6t",
      "execution_count": null,
      "outputs": []
    },
    {
      "cell_type": "markdown",
      "metadata": {
        "id": "411c2165"
      },
      "source": [
        "Наконец, перейдем к постпроцессингу. Постпроцессинг обычно заключается в нормализации изображения и приведения к тензорному виду. Для этого есть два класса:\n",
        "\n",
        "* `albumentations.Normalize`\n",
        "* `albumentations.pytorch.ToTensorV2`"
      ],
      "id": "411c2165"
    },
    {
      "cell_type": "code",
      "execution_count": null,
      "metadata": {
        "id": "005d2f57"
      },
      "outputs": [],
      "source": [
        "from albumentations.pytorch import ToTensorV2\n",
        "\n",
        "val_transform = size_transform\n",
        "test_transform = size_transform\n",
        "\n",
        "post_transform = A.Compose([\n",
        "    A.Normalize(\n",
        "        mean=[0, 0, 0],\n",
        "        std=[1, 1, 1],\n",
        "        max_pixel_value=255.,\n",
        "        p=1.,\n",
        "    ),\n",
        "    ToTensorV2(p=1.)\n",
        "])"
      ],
      "id": "005d2f57"
    },
    {
      "cell_type": "markdown",
      "metadata": {
        "id": "81fff35a"
      },
      "source": [
        "### 1.2.2. Визуализация аугментаций"
      ],
      "id": "81fff35a"
    },
    {
      "cell_type": "markdown",
      "metadata": {
        "id": "78a3cf7c"
      },
      "source": [
        "Очень важно визуализировать аугментации на данных. Мы уже написали простой кусочек кода, который помогает понять, как аугментации работают."
      ],
      "id": "78a3cf7c"
    },
    {
      "cell_type": "code",
      "execution_count": null,
      "metadata": {
        "id": "64776d7c"
      },
      "outputs": [],
      "source": [
        "from utils import DBDataset\n",
        "\n",
        "dataset = DBDataset(train_adapters, train_transform, post_transform)\n",
        "idx = np.random.choice(len(dataset))\n",
        "raw_image, image, shrink_map, shrink_mask, threshold_map, threshold_mask, gt_polygon = dataset[idx]\n",
        "\n",
        "fig, ax = plt.subplots(1, 5, figsize=(20, 20), dpi=200)\n",
        "\n",
        "ax = ax.ravel()\n",
        "\n",
        "ax[0].set_title('image')\n",
        "ax[0].imshow(raw_image)\n",
        "\n",
        "ax[1].set_title('shrink_map')\n",
        "ax[1].imshow(shrink_map)\n",
        "\n",
        "ax[2].set_title('shrink_mask')\n",
        "ax[2].imshow(shrink_mask)\n",
        "\n",
        "ax[3].set_title('threshold_map')\n",
        "ax[3].imshow(threshold_map)\n",
        "\n",
        "ax[4].set_title('threshold_mask')\n",
        "ax[4].imshow(threshold_mask)\n",
        "\n",
        "\n",
        "plt.show()"
      ],
      "id": "64776d7c"
    },
    {
      "cell_type": "markdown",
      "metadata": {
        "id": "a2f8afae"
      },
      "source": [
        "### 1.2.3. Преобразование сегментации в bounding box-ы"
      ],
      "id": "a2f8afae"
    },
    {
      "cell_type": "markdown",
      "metadata": {
        "id": "2d000c19"
      },
      "source": [
        "Мы решаем задачу при помощи сегментации, поэтому результатом решения будут сегментационные карты. Для того, чтобы превратить карты сегментации в bounding box-ы, необходимо использовать постпроцессинг, который уже реализован. \n",
        "\n",
        "Идея этой постобработки заключается в том, что она будет проходить по каждому контуру из предсказанной маски и превращать его в bounding box из четырех точек с помощью все того же метода `cv2.minAreaRect`."
      ],
      "id": "2d000c19"
    },
    {
      "cell_type": "code",
      "execution_count": null,
      "metadata": {
        "id": "e8763cc9"
      },
      "outputs": [],
      "source": [
        "from utils import Postprocessor\n",
        "\n",
        "postprocessor = Postprocessor(\n",
        "    unclip_ratio=1.5,\n",
        "    binarization_threshold=0.3,\n",
        "    confidence_threshold=0.7,\n",
        "    min_area=1,\n",
        "    max_number=1000\n",
        ")"
      ],
      "id": "e8763cc9"
    },
    {
      "cell_type": "code",
      "execution_count": null,
      "metadata": {
        "id": "4a87fe93"
      },
      "outputs": [],
      "source": [
        "idx = np.random.choice(len(dataset))\n",
        "raw_image, image, shrink_map, shrink_mask, threshold_map, threshold_mask, gt_polygon = dataset[idx]\n",
        "h, w, c = raw_image.shape\n",
        "shrink_map= np.expand_dims(np.expand_dims(shrink_map, axis=0), axis=0)\n",
        "map_polygons, _ = postprocessor(w, h, shrink_map, return_polygon=False)"
      ],
      "id": "4a87fe93"
    },
    {
      "cell_type": "code",
      "execution_count": null,
      "metadata": {
        "id": "ffe514df"
      },
      "outputs": [],
      "source": [
        "fig, ax = plt.subplots(1, 3, figsize=(20, 20))\n",
        "\n",
        "ax = ax.ravel()\n",
        "\n",
        "ax[0].set_title('image')\n",
        "ax[0].imshow(raw_image)\n",
        "\n",
        "ax[1].set_title('segmentation')\n",
        "ax[1].imshow(shrink_map[0][0])\n",
        "\n",
        "ax[2].set_title('bounding boxes')\n",
        "ax[2].imshow(DrawMore.draw_contours(np.zeros_like(raw_image), map_polygons[0], thickness=2))\n",
        "\n",
        "plt.show()"
      ],
      "id": "ffe514df"
    },
    {
      "cell_type": "markdown",
      "metadata": {
        "id": "2d6af6ab"
      },
      "source": [
        "### 1.2.4. Подготовка DataLoader-ов"
      ],
      "id": "2d6af6ab"
    },
    {
      "cell_type": "markdown",
      "metadata": {
        "id": "9e144cc1"
      },
      "source": [
        "Мы посмотрели на данные, подготовили аугментации - далее осталось только инициализировать датасеты (и даталоадеры) и можно переходить к метрикам и моделированию нейросети. "
      ],
      "id": "9e144cc1"
    },
    {
      "cell_type": "code",
      "execution_count": null,
      "metadata": {
        "id": "aa48c1f5"
      },
      "outputs": [],
      "source": [
        "import os\n",
        "\n",
        "from torch.utils.data import DataLoader\n",
        "\n",
        "from utils import collate, worker_init_fn\n",
        "\n",
        "num_workers = os.cpu_count()  # количество ядер CPU, которые мы выделяем даталоадеру\n",
        "batch_size = 16  # количество изображений в одном батче\n",
        "\n",
        "train_ds = DBDataset(\n",
        "    adapters=train_adapters,\n",
        "    transforms=train_transform,\n",
        "    post_transforms=post_transform,\n",
        "    size=1000  # на каждой эпохе для обучения будет 1000 изображений\n",
        "\n",
        ")\n",
        "val_ds = DBDataset(\n",
        "    adapters=val_adapters,\n",
        "    transforms=val_transform,\n",
        "    post_transforms=post_transform,\n",
        "    size=400  # на каждой эпохе для валидации будет 400 изображений\n",
        ")\n",
        "\n",
        "train_dl = DataLoader(\n",
        "    train_ds,\n",
        "    batch_size=batch_size,\n",
        "    num_workers=num_workers,\n",
        "    collate_fn=collate,\n",
        "    worker_init_fn=worker_init_fn,\n",
        "    pin_memory=True,\n",
        "    shuffle=True,\n",
        "    drop_last=False\n",
        ")\n",
        "\n",
        "val_dl = DataLoader(\n",
        "    val_ds,\n",
        "    batch_size=batch_size,\n",
        "    num_workers=num_workers,\n",
        "    collate_fn=collate,\n",
        "    worker_init_fn=worker_init_fn,\n",
        "    pin_memory=True,\n",
        "    shuffle=False,\n",
        "    drop_last=False\n",
        ")"
      ],
      "id": "aa48c1f5"
    },
    {
      "cell_type": "markdown",
      "metadata": {
        "id": "6f0824d0"
      },
      "source": [
        "# 2. Модель"
      ],
      "id": "6f0824d0"
    },
    {
      "cell_type": "markdown",
      "metadata": {
        "id": "b37a18e4"
      },
      "source": [
        "Мы подготовили данные, теперь нужно сделать модель, которая на вход будет принимать изображение, а на выходе -- выдавать карты сегментации с областями, где найден текст.\n",
        "\n",
        "В качестве модели мы будем использовать модель DB ([статья](https://arxiv.org/abs/1911.08947)), у которой есть условные \"тело\" (или \"кодировщик\") и \"голова\" (или \"декодировщик\"). На изображении ниже левая половина (до слоя CONCAT) - это \"тело\", которое мы возьмем готовое, а \"голову\" мы предлагаем ниже частично реализовать.\n"
      ],
      "id": "b37a18e4"
    },
    {
      "cell_type": "markdown",
      "source": [
        "![image.png](data:image/png;base64,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)"
      ],
      "metadata": {
        "id": "6MZZKONIhWxW"
      },
      "id": "6MZZKONIhWxW"
    },
    {
      "cell_type": "markdown",
      "source": [
        "Вообще говоря, это хорошая практика -- брать хорошо изученные предобученные кодировщики. Этот подход называется transfer learning и позволяет получать более высокое качество, чем обучение с нуля. Это позволяет сэкономить время обучения и объем необходимой разметки. Причем стоит отметить, что это не зависит от задачи. Например, если вы сегментируете медицинские изображения, то кодировщики, предобученные на задаче классификации (ImageNet) все равно подходят и значитально улучшают качество результата.\n",
        "\n",
        "Вернемся к нашей модели. В отличие от обычных сегментационных нейросетей, DB кроме вероятностей (probability map) предсказывает еще и уточненные границы слов (threshold map). Это позволяет превращать вероятностные маски в бинаризованные изображения с помощью step function - функции, которая из probability map и threshold map составляет бинарную маску. "
      ],
      "metadata": {
        "id": "OEH5PvRqhUSf"
      },
      "id": "OEH5PvRqhUSf"
    },
    {
      "cell_type": "markdown",
      "source": [
        "В реализации модели DB мы пойдем с конца (с самого интересного): реализуем step function, затем голову DB (класс `DBHead`), а в конце соберем всю модель в классе `DB`. "
      ],
      "metadata": {
        "id": "CQuDDSigh1F9"
      },
      "id": "CQuDDSigh1F9"
    },
    {
      "cell_type": "markdown",
      "metadata": {
        "id": "60eef129"
      },
      "source": [
        "### Задача 4. Step function для модели DB"
      ],
      "id": "60eef129"
    },
    {
      "cell_type": "markdown",
      "metadata": {
        "id": "69227e0e"
      },
      "source": [
        "Необходимо реализовать функцию, которая сможет обрабатывать сигналы, которые выходят из модели и получать из них регионы с текстом. Для этого в этой задаче мы реализуем функцию, которая превращает probability map и threshold map в регионы с текстом -- Step Function.\n",
        "\n",
        "Формула для Step Function (из статьи) имеет следующий вид:\n",
        "\n",
        "$$\\hat{B}_{i, j} = \\frac{1}{1+e^{-k(P_{i,j}-T_{i,j})}}$$\n",
        "\n",
        "Где $\\hat{B}_{i, j}$ - это динамически бинаризованное предсказание, $P_{i,j}$ - это probability map, $T_{i,j}$ - это threshold map, а $k$ - это коэффициент, который в статье равен 50. \n",
        "\n",
        "Необходимо реализовать данную функцию при данных `p`, `t` и `k`. "
      ],
      "id": "69227e0e"
    },
    {
      "cell_type": "code",
      "execution_count": null,
      "metadata": {
        "id": "f810d846"
      },
      "outputs": [],
      "source": [
        "import torch\n",
        "\n",
        "# КОД ДЛЯ СТУДЕНТА\n",
        "def step_function(p: torch.Tensor, t: torch.Tensor, k: int = 50) -> torch.Tensor:\n",
        "    pass"
      ],
      "id": "f810d846"
    },
    {
      "cell_type": "markdown",
      "metadata": {
        "id": "406ea40d"
      },
      "source": [
        "#### Проверка задачи 4"
      ],
      "id": "406ea40d"
    },
    {
      "cell_type": "code",
      "execution_count": null,
      "metadata": {
        "id": "9e644731"
      },
      "outputs": [],
      "source": [
        "# проверка функции, проверка изображения будет ниже\n",
        "msg = 'Что-то не так с функцией step_function...'\n",
        "\n",
        "p = torch.linspace(1, 100, 100)\n",
        "t = torch.linspace(1, 100, 100)\n",
        "k = 50\n",
        "sf = step_function(p, t, k)\n",
        "assert hash(tuple(sf.flatten().tolist())) == 4860710189162347763, msg\n",
        "\n",
        "assert step_function(torch.tensor(0), torch.tensor(0), torch.tensor(0)).item() == 0.5, msg\n",
        "assert round(step_function(torch.tensor(2), torch.tensor(1), torch.tensor(1)).item(), 4) == 0.7311, msg\n",
        "assert round(step_function(torch.tensor(2), torch.tensor(1), torch.tensor(4)).item(), 4) == 0.982, msg\n",
        "assert step_function(torch.tensor(2), torch.tensor(1), torch.tensor(20)).item() == 1.0, msg"
      ],
      "id": "9e644731"
    },
    {
      "cell_type": "markdown",
      "metadata": {
        "id": "6819f13c"
      },
      "source": [
        "Также проверим функцию `step_function` на реальных probability map и threshold map, которые мы извлечем из изображений, а также сравним их с правильным значением функции `step_function`, которое мы также извлечем из изображения: "
      ],
      "id": "6819f13c"
    },
    {
      "cell_type": "code",
      "source": [
        "prob_map = cv2.imread(base_folder + 'examples/prob_map.png', cv2.IMREAD_GRAYSCALE)\n",
        "threshold_map = cv2.imread(base_folder + 'examples/threshold_map.png', cv2.IMREAD_GRAYSCALE)\n",
        "true_after_step_function = cv2.imread(base_folder + 'examples/step_function.png', cv2.IMREAD_GRAYSCALE)\n",
        "\n",
        "after_step_function = step_function(torch.from_numpy(prob_map/255), torch.from_numpy(threshold_map/255), k=50).numpy() * 255\n",
        "assert np.allclose(true_after_step_function, after_step_function.astype(int)), msg"
      ],
      "metadata": {
        "id": "_mzkghLLlTxi"
      },
      "id": "_mzkghLLlTxi",
      "execution_count": null,
      "outputs": []
    },
    {
      "cell_type": "code",
      "execution_count": null,
      "metadata": {
        "id": "25857568",
        "scrolled": false
      },
      "outputs": [],
      "source": [
        "fig, (ax1, ax2, ax3, ax4) = plt.subplots(1, 4, figsize=(15, 5))\n",
        "\n",
        "ax1.imshow(prob_map, cmap='gray')\n",
        "ax1.set_title('probability_map')\n",
        "\n",
        "ax2.imshow(threshold_map, cmap='gray')\n",
        "ax2.set_title('threshold_map')\n",
        "\n",
        "ax3.imshow(true_after_step_function, cmap='gray')\n",
        "ax3.set_title('true after step_function')\n",
        "\n",
        "ax4.imshow(after_step_function, cmap='gray')\n",
        "ax4.set_title('after step_function')\n",
        "\n",
        "plt.show()"
      ],
      "id": "25857568"
    },
    {
      "cell_type": "markdown",
      "metadata": {
        "id": "678fbdb0"
      },
      "source": [
        "Кроме этого, предлагаем посмотреть на значение `step_function` в зависимости от параметра $k$, особенно от 1 до 10 (запустите следующую ячейку и покрутите слайдер, при прокрутке слайдера картинка может обновляться примерно 0,5-1 секунду):"
      ],
      "id": "678fbdb0"
    },
    {
      "cell_type": "code",
      "execution_count": null,
      "metadata": {
        "id": "5959462d"
      },
      "outputs": [],
      "source": [
        "from ipywidgets import interact, IntSlider\n",
        "\n",
        "def wrapper(k=50):\n",
        "  plt.figure(figsize=(6, 6))\n",
        "  plt.imshow(step_function(torch.from_numpy(prob_map/255), torch.from_numpy(threshold_map/255), k), cmap='gray')\n",
        "    \n",
        "interact(wrapper, k=IntSlider(min=1, max=50, step=1, value=10));"
      ],
      "id": "5959462d"
    },
    {
      "cell_type": "markdown",
      "metadata": {
        "id": "0b42fec6"
      },
      "source": [
        "### Задача 5: Реализация `DBHead`"
      ],
      "id": "0b42fec6"
    },
    {
      "cell_type": "markdown",
      "metadata": {
        "id": "5fac1548"
      },
      "source": [
        "В вашем распоряжении почти готовый класс, в котором осталось сделать несколько вещей:\n",
        "1. Вставить реализацию метода `step_function` из предыдущей задачи (не забываем про `self`);\n",
        "2. Реализовать метод `_init`, который инициализирует сразу две \"головы\" модели DB. Метод должен возвращать контейнер `nn.Sequential` со следующими слоями: \n",
        "\n",
        "- `Conv2d(inner_channels, inner_channels/4, kernel_size=(3, 3), stride=(1, 1), padding=(1, 1), bias=False)`\n",
        "- `BatchNorm2d(inner_channels/4)`\n",
        "- `ReLU`\n",
        "- `ConvTranspose2d(inner_channels/4, inner_channels/4, kernel_size=(2, 2), stride=(2, 2), bias=False)`\n",
        "- `BatchNorm2d(inner_channels/4)`\n",
        "- `ReLU`\n",
        "- `ConvTranspose2d(inner_channels/4, 1, kernel_size=(2, 2), stride=(2, 2))`\n",
        "- `Sigmoid`\n",
        "\n",
        "\n"
      ],
      "id": "5fac1548"
    },
    {
      "cell_type": "markdown",
      "source": [
        "##### Код"
      ],
      "metadata": {
        "id": "QRa51CJ2t8ER"
      },
      "id": "QRa51CJ2t8ER"
    },
    {
      "cell_type": "code",
      "execution_count": null,
      "metadata": {
        "id": "3c86fc35"
      },
      "outputs": [],
      "source": [
        "# КОД ДЛЯ СТУДЕНТА\n",
        "\n",
        "from torch import nn\n",
        "\n",
        "class DBHead(nn.Module):\n",
        "    def __init__(self, in_channels: int, k: int = 50):\n",
        "        \"\"\"\n",
        "        Класс головы модели DB из статьи https://arxiv.org/abs/1911.08947.\n",
        "\n",
        "        Args:\n",
        "            in_channels: входное количество каналов\n",
        "            k: значение параметра k в step function (см. статью)\n",
        "        \"\"\"\n",
        "        super().__init__()\n",
        "        self.k = k\n",
        "        self.binarize = self._init(in_channels)\n",
        "        self.thresh = self._init(in_channels)\n",
        "\n",
        "    def forward(self, x: torch.Tensor) -> torch.Tensor:\n",
        "        shrink_maps = self.binarize(x)\n",
        "        threshold_maps = self.thresh(x)\n",
        "        binary_maps = self.step_function(shrink_maps, threshold_maps, self.k)\n",
        "        y = torch.cat((shrink_maps, threshold_maps, binary_maps), dim=1)\n",
        "        return y\n",
        "\n",
        "    def _init(\n",
        "        self,\n",
        "        inner_channels: int,\n",
        "    ) -> nn.Module:\n",
        "        pass\n",
        "    \n",
        "    def step_function(self, p: torch.Tensor, t: torch.Tensor, k: int = 50) -> torch.Tensor:\n",
        "        pass"
      ],
      "id": "3c86fc35"
    },
    {
      "cell_type": "markdown",
      "source": [
        "##### Проверка задачи 5"
      ],
      "metadata": {
        "id": "x5wDmbYNt5KT"
      },
      "id": "x5wDmbYNt5KT"
    },
    {
      "cell_type": "code",
      "source": [
        "dbhead = DBHead(16, 50)\n",
        "\n",
        "assert str(dbhead.thresh) == str(dbhead.binarize), 'Модули dbhead.thresh и dbhead.binarize должны быть идентичны.'\n",
        "true_seq_str = '''Sequential(\n",
        "  (0): Conv2d(16, 4, kernel_size=(3, 3), stride=(1, 1), padding=(1, 1), bias=False)\n",
        "  (1): BatchNorm2d(4, eps=1e-05, momentum=0.1, affine=True, track_running_stats=True)\n",
        "  (2): ReLU()\n",
        "  (3): ConvTranspose2d(4, 4, kernel_size=(2, 2), stride=(2, 2), bias=False)\n",
        "  (4): BatchNorm2d(4, eps=1e-05, momentum=0.1, affine=True, track_running_stats=True)\n",
        "  (5): ReLU()\n",
        "  (6): ConvTranspose2d(4, 1, kernel_size=(2, 2), stride=(2, 2))\n",
        "  (7): Sigmoid()\n",
        ")'''\n",
        "assert str(dbhead.thresh) == true_seq_str, 'Модуль dbhead.thresh имеет неправильную архитектуру.'\n",
        "assert dbhead(torch.rand(1, 16, 32, 32)).shape == torch.Size([1, 3, 128, 128]), 'Неправильная размерность на выходе из модели.'"
      ],
      "metadata": {
        "id": "LPb1YEAVt3t5"
      },
      "id": "LPb1YEAVt3t5",
      "execution_count": null,
      "outputs": []
    },
    {
      "cell_type": "markdown",
      "metadata": {
        "id": "6b2dbf33"
      },
      "source": [
        "### Задача 6. Сборка модели"
      ],
      "id": "6b2dbf33"
    },
    {
      "cell_type": "markdown",
      "metadata": {
        "id": "1e995c49"
      },
      "source": [
        "Класс \"головы\" (декодировщик) для DBNet у нас уже реализован, поэтому нужно собрать \"тело\" (или кодировщик) и совместить с \"головой\". По шагам: \n",
        "\n",
        "1. В качестве кодировщика мы предлагаем взять `FPN` ([статья](https://arxiv.org/abs/1612.03144)) из библиотеки `segmentation-models-pytorch` с бэкбоном  `timm-regnetx_016` ([статья](https://arxiv.org/abs/2003.13678)), который необходимо передать как парамтр `encoder_name`. Кроме этого, в `FPN` есть своя сегментационная голова `segmentation_head`, которая нам не нужна, поэтому ее можно превратить в `torch.nn.Identity()`. \n",
        "2. В качестве декодировщика берем только что написанный класс `DBHead`, в который необходимо передать 2 параметра: `k` (рекомендуем поставить 50) и `in_channels`. Значение последнего мы вам не скажем, так как предоставляем это вам - вычислить количество выходных каналов из кодировщика, которые, в свою очередь, будут входными каналами в декодировщик. \n"
      ],
      "id": "1e995c49"
    },
    {
      "cell_type": "markdown",
      "metadata": {
        "id": "79afde76"
      },
      "source": [
        "#### Код"
      ],
      "id": "79afde76"
    },
    {
      "cell_type": "code",
      "execution_count": null,
      "metadata": {
        "id": "0bf04225"
      },
      "outputs": [],
      "source": [
        "import segmentation_models_pytorch as smp\n",
        "import torch.nn.functional as F\n",
        "\n",
        "# КОД ДЛЯ СТУДЕНТА\n",
        "class DB(nn.Module):\n",
        "    def __init__(self):\n",
        "        super().__init__()\n",
        "        self.body = ...  # FPN из smp\n",
        "        self.head = ...  # DBHead \n",
        "\n",
        "    def forward(self, x: torch.Tensor) -> torch.Tensor:\n",
        "        _, _, H, W = x.size()\n",
        "        x = self.body(x)\n",
        "        x = self.head(x)\n",
        "        x = F.interpolate(x, size=(H, W), mode='bilinear', align_corners=True)\n",
        "        return x"
      ],
      "id": "0bf04225"
    },
    {
      "cell_type": "markdown",
      "metadata": {
        "id": "321b20fa"
      },
      "source": [
        "#### Проверка задачи 6"
      ],
      "id": "321b20fa"
    },
    {
      "cell_type": "code",
      "execution_count": null,
      "metadata": {
        "id": "b269971f",
        "scrolled": true
      },
      "outputs": [],
      "source": [
        "import segmentation_models_pytorch as smp\n",
        "import torch.nn as nn\n",
        "\n",
        "db = DB()\n",
        "\n",
        "assert isinstance(db.body, smp.FPN), 'Кодировщик имеет неправильный класс, должен быть smp.FPN.'\n",
        "assert isinstance(db.head, DBHead), 'Декодировщик имеет неправильный класс, должен быть DBHead.'\n",
        "\n",
        "for module in db.modules():\n",
        "    if hasattr(module, 'weight'):\n",
        "        module.weight = nn.Parameter(torch.ones_like(module.weight))\n",
        "    if hasattr(module, 'bias') and module.bias is not None:\n",
        "        module.bias = nn.Parameter(torch.ones_like(module.bias))\n",
        "inp = torch.ones(1, 3, 64, 64)\n",
        "with torch.no_grad():\n",
        "    out = db(inp)\n",
        "\n",
        "head_msg = 'Что-то не так с возвращаемым значением головы db.head.{}. Точно с \"головой\" модели все в порядке?'\n",
        "assert torch.allclose(out[0][0][0], torch.tensor([0.7311]*64), atol=1e-4), head_msg.format('binarize')\n",
        "assert torch.allclose(out[0][1][0], torch.tensor([0.7311]*64), atol=1e-4), head_msg.format('threshold')\n",
        "step_function_msg = 'Что-то не так с возвращаемым значением step_function. Точно step_function правильная? '\n",
        "assert torch.allclose(out[0][2][0], torch.tensor([0.5]*64), atol=1e-4), step_function_msg"
      ],
      "id": "b269971f"
    },
    {
      "cell_type": "markdown",
      "metadata": {
        "id": "a63b28a2"
      },
      "source": [
        "# 3. Метрики и функция потерь"
      ],
      "id": "a63b28a2"
    },
    {
      "cell_type": "markdown",
      "metadata": {
        "id": "ad0bf114"
      },
      "source": [
        "Мы подготовили датасет и модель. И даже сделали функцию, которая интерпретирует выход из модели. Осталось только понять, как сравнивать предсказания модели и целевые значения (ground truth) -- и можно начинать обучение!\n",
        "\n",
        "Для этого нужно определиться с функцией потерь и метрикой.\n",
        "\n",
        "В качестве функции потерь мы будем использовать комбинацию нескольких функций, про которые мы поговорили в инструктаже: \n",
        "* `BalanceCrossEntropyLoss`\n",
        "* `MaskL1Loss`\n",
        "* `DiceLoss`\n",
        "\n",
        "Они все уже реализованы, крайне рекомендуем посмотреть их реализацию в файле `IntelligentDocumentProcessing/Resources/a_Text_Detection/utils/losses.py`. \n",
        "\n",
        "В качестве метрик возьмем метрики `Precision`, `Recall` и `F-Score`, которые будем рассчитывать по `IoU`. Например, при `IoU=0.05` мы будем считать метрики `Precision` и другие только для тех пар полигонов (предсказанный-целевой), у которых `IoU` выше значения 0.05. "
      ],
      "id": "ad0bf114"
    },
    {
      "cell_type": "markdown",
      "metadata": {
        "id": "c1a38d22"
      },
      "source": [
        "### Задача 7. Метрики"
      ],
      "id": "c1a38d22"
    },
    {
      "cell_type": "markdown",
      "metadata": {
        "id": "2afbefe3"
      },
      "source": [
        "Вам предоставлен класс, подсчитывающий метрики. Все методы, кроме одного, реализованы. Необходимо реализовать метод `get_iou`, подсчитывающий intersection over union для двух заданных полигонов. \n",
        "\n",
        "(Подсказка: в [Shapely](https://shapely.readthedocs.io/en/stable/manual.html#polygons) есть все необходимые методы). "
      ],
      "id": "2afbefe3"
    },
    {
      "cell_type": "markdown",
      "metadata": {
        "id": "2af7edb1"
      },
      "source": [
        "#### Код"
      ],
      "id": "2af7edb1"
    },
    {
      "cell_type": "code",
      "execution_count": null,
      "metadata": {
        "id": "b9a4c1ca"
      },
      "outputs": [],
      "source": [
        "# КОД ДЛЯ СТУДЕНТА\n",
        "from utils import BaseEvaluator\n",
        "from shapely.geometry import Polygon\n",
        "\n",
        "class Evaluator(BaseEvaluator):\n",
        "    @staticmethod\n",
        "    def get_iou(p1: Polygon, p2: Polygon) -> float:\n",
        "        pass"
      ],
      "id": "b9a4c1ca"
    },
    {
      "cell_type": "markdown",
      "metadata": {
        "id": "262ff344"
      },
      "source": [
        "#### Проверка"
      ],
      "id": "262ff344"
    },
    {
      "cell_type": "code",
      "execution_count": null,
      "metadata": {
        "id": "62b07728"
      },
      "outputs": [],
      "source": [
        "evaluator = Evaluator()\n",
        "\n",
        "# два квадрата, один в 4 раза больше другого\n",
        "p1 = Polygon([[0, 0], [0, 100], [100, 100], [100, 0]])\n",
        "p2 = Polygon([[0, 0], [0, 50], [50, 50], [50, 0]])\n",
        "assert round(evaluator.get_iou(p1, p2), 5) == 0.25, 'Что-то не так с evaluator, ведь один квадрат в 4 раза больше другого... '\n",
        "\n",
        "# два треугольника\n",
        "p1 = Polygon([[100, 100], [200, 200], [300, 100]])\n",
        "p2 = Polygon([[150, 150], [250, 250], [350, 150]])\n",
        "assert round(evaluator.get_iou(p1, p2), 5) == 0.14286, 'Что-то не так с evaluator...'"
      ],
      "id": "62b07728"
    },
    {
      "cell_type": "markdown",
      "metadata": {
        "id": "410829f9"
      },
      "source": [
        "# 4. Обучение"
      ],
      "id": "410829f9"
    },
    {
      "cell_type": "markdown",
      "metadata": {
        "id": "d1219b2b"
      },
      "source": [
        "## 4.1. Pytorch Lightning Module"
      ],
      "id": "d1219b2b"
    },
    {
      "cell_type": "markdown",
      "metadata": {
        "id": "fc178095"
      },
      "source": [
        "Мы будем использовать pytorch lightning для обучения. Для этого сначала нужно сделать pytorch lightning класс, в котором необходимо описать:\n",
        "\n",
        "* \\_\\_init\\_\\_ - с определением модели, функций потерь, метрик и постобработки;\n",
        "* training_step - с шагом обучения, подсчетом и логированием метрик\n",
        "* validation_step - с шагом валидации, подсчетом и логированием метрик\n",
        "* test_step - с шагом тестирования, подсчетом и логированием метрик (в нашем случае он будет аналогичным `validation_step`)\n",
        "* configure_optimizers - с определением optimizer'а и scheduler'а. \n",
        "\n",
        "Всех тем, кроме оптимизации, мы ранее уже коснулись. В качестве `optimizer` мы рекомендуем использовать `AdamW` ([статья](https://arxiv.org/pdf/1711.05101.pdf)) и `CyclicLR` ([статья](https://arxiv.org/pdf/1506.01186.pdf)) в качестве `scheduler`. Они хорошо зарекомендовали себя в наших многочисленных экспериментах, но в домашнем задании вы при желании можете использовать любые другие алгоритмы оптимизации. \n"
      ],
      "id": "fc178095"
    },
    {
      "cell_type": "code",
      "execution_count": null,
      "metadata": {
        "id": "94715df0"
      },
      "outputs": [],
      "source": [
        "import pytorch_lightning as pl\n",
        "\n",
        "from typing import Any, Tuple, List\n",
        "from utils import DBLoss\n",
        "from utils import log_losses_and_metrics, log_images\n",
        "\n",
        "from torch import optim\n",
        "\n",
        "class DBRunner(pl.LightningModule):\n",
        "    def __init__(self):\n",
        "        \"\"\"\n",
        "        Основной класс для обучения модели DB.\n",
        "        \"\"\"\n",
        "        super(DBRunner, self).__init__()\n",
        "\n",
        "        self.model = DB()\n",
        "\n",
        "        self.evaluator = Evaluator()\n",
        "        self.postprocessor = Postprocessor(\n",
        "            unclip_ratio=1.5,\n",
        "            binarization_threshold=0.3,\n",
        "            confidence_threshold=0.7,\n",
        "            min_area=1,\n",
        "            max_number=1000\n",
        "        )\n",
        "\n",
        "        self.loss = DBLoss(\n",
        "            alpha=1,\n",
        "            beta=10,\n",
        "            ohem_ratio=3,\n",
        "        )\n",
        "\n",
        "    def forward(self, x: torch.Tensor) -> torch.Tensor:\n",
        "        return self.model(x)\n",
        "\n",
        "    def training_step(self, batch: Any, batch_idx: int) -> Any:\n",
        "        \"\"\"\n",
        "        Метод с имплементацией шага обучения.\n",
        "\n",
        "        Args:\n",
        "            batch: батч\n",
        "            batch_idx: индекс батча\n",
        "\n",
        "        Returns:\n",
        "            лосс\n",
        "        \"\"\"\n",
        "        raw_images, images, shrink_maps, shrink_masks, threshold_maps, threshold_masks, gt_polygons = batch\n",
        "        current_batch_size = len(raw_images)\n",
        "        preds = self.forward(images)\n",
        "\n",
        "        losses = self.loss(preds, {\n",
        "            'shrink_map': shrink_maps,\n",
        "            'shrink_mask': shrink_masks,\n",
        "            'threshold_map': threshold_maps,\n",
        "            'threshold_mask': threshold_masks,\n",
        "        })\n",
        "\n",
        "        log_losses_and_metrics(self.log, losses, metrics=None, current_batch_size=current_batch_size, mode='train')\n",
        "\n",
        "        log_images_every_n_epoch = 5\n",
        "\n",
        "        if self.current_epoch % log_images_every_n_epoch == 0 and batch_idx == 0:\n",
        "            h, w, c = raw_images[0].shape\n",
        "\n",
        "            shrink_maps = DrawMore.to_numpy(shrink_maps, unsqueeze=True)\n",
        "            threshold_maps = DrawMore.to_numpy(threshold_maps, unsqueeze=True)\n",
        "            pred_shrink_maps = DrawMore.to_numpy(preds[:, [0], :, :])\n",
        "            pred_threshold_maps = DrawMore.to_numpy(preds[:, [1], :, :])\n",
        "            pred_bin_maps = DrawMore.to_numpy(preds[:, [2], :, :])\n",
        "\n",
        "            train_gt_polygons, _ = self.postprocessor(w, h, shrink_maps, return_polygon=False)\n",
        "            train_polygons_after_step, _ = self.postprocessor(w, h, pred_bin_maps, return_polygon=False)\n",
        "            metrics_after_step = self.evaluator(train_gt_polygons, train_polygons_after_step)\n",
        "\n",
        "            log_images(\n",
        "                self.trainer.logger,\n",
        "                raw_images,\n",
        "                shrink_maps,\n",
        "                threshold_maps,\n",
        "                pred_bin_maps,\n",
        "                pred_shrink_maps,\n",
        "                pred_threshold_maps,\n",
        "                train_gt_polygons,\n",
        "                train_polygons_after_step,\n",
        "                metrics_after_step,\n",
        "                mode='train',\n",
        "                log_max=4\n",
        "            )\n",
        "\n",
        "        return losses[\"loss\"]\n",
        "\n",
        "    def validation_step(self, batch: Any, batch_idx: int) -> Any:\n",
        "        \"\"\"\n",
        "        Метод с имплементацией шага валидации.\n",
        "\n",
        "        Args:\n",
        "            batch: батч\n",
        "            batch_idx: индекс батча\n",
        "        \"\"\"\n",
        "        raw_images, images, shrink_maps, shrink_masks, threshold_maps, threshold_masks, gt_polygons = batch\n",
        "        current_batch_size = len(raw_images)\n",
        "        preds = self.forward(images)\n",
        "\n",
        "        losses = self.loss(preds, {\n",
        "            'shrink_map': shrink_maps,\n",
        "            'shrink_mask': shrink_masks,\n",
        "            'threshold_map': threshold_maps,\n",
        "            'threshold_mask': threshold_masks,\n",
        "        })\n",
        "\n",
        "        h, w, c = raw_images[0].shape\n",
        "\n",
        "        shrink_maps = DrawMore.to_numpy(shrink_maps, unsqueeze=True)\n",
        "        pred_bin_maps = DrawMore.to_numpy(preds[:, [2], :, :])\n",
        "\n",
        "        val_gt_polygons, _ = self.postprocessor(w, h, shrink_maps, return_polygon=False)\n",
        "        val_polygons_after_step, _ = self.postprocessor(w, h, pred_bin_maps, return_polygon=False)\n",
        "        metrics_after_step = self.evaluator(val_gt_polygons, val_polygons_after_step)\n",
        "\n",
        "        log_losses_and_metrics(self.log, losses, metrics_after_step, current_batch_size=current_batch_size, mode='val')\n",
        "\n",
        "        log_images_every_n_epoch = 5\n",
        "\n",
        "        if self.current_epoch % log_images_every_n_epoch == 0 and batch_idx == 0:\n",
        "            threshold_maps = DrawMore.to_numpy(threshold_maps, unsqueeze=True)\n",
        "            pred_shrink_maps = DrawMore.to_numpy(preds[:, [0], :, :])\n",
        "            pred_threshold_maps = DrawMore.to_numpy(preds[:, [1], :, :])\n",
        "\n",
        "            log_images(\n",
        "                self.trainer.logger,\n",
        "                raw_images,\n",
        "                shrink_maps,\n",
        "                threshold_maps,\n",
        "                pred_bin_maps,\n",
        "                pred_shrink_maps,\n",
        "                pred_threshold_maps,\n",
        "                val_gt_polygons,\n",
        "                val_polygons_after_step,\n",
        "                metrics_after_step,\n",
        "                mode='val'\n",
        "            )\n",
        "\n",
        "    def test_step(self, batch: Any, batch_idx: int) -> Any:\n",
        "        \"\"\"\n",
        "        Метод с имплементацией шага тестирования (аналогичный шагу валидации).\n",
        "\n",
        "        Args:\n",
        "            batch: батч\n",
        "            batch_idx: индекс батча\n",
        "        \"\"\"\n",
        "        self.validation_step(batch, batch_idx)\n",
        "\n",
        "    def configure_optimizers(self) -> Tuple[List[Any], List[Any]]:\n",
        "        \"\"\"\n",
        "        Метод для настройки оптимизаторов обучения и планировщиков для learning rate (LR).\n",
        "\n",
        "        Returns:\n",
        "            список оптимизаторов; список планировщиков LR\n",
        "        \"\"\"\n",
        "        optimizer = optim.AdamW(\n",
        "            self.parameters(), lr=5.0e-4, betas=(0.9, 0.999), weight_decay=0.0005)\n",
        "        lr_scheduler = torch.optim.lr_scheduler.CyclicLR(\n",
        "            optimizer=optimizer,\n",
        "            base_lr=0.0001,\n",
        "            max_lr=0.0075,\n",
        "            step_size_up=235,\n",
        "            step_size_down=235 * 4,\n",
        "            mode=\"triangular\",\n",
        "            cycle_momentum=False,\n",
        "        )\n",
        "        scheduler = {\n",
        "            \"scheduler\": lr_scheduler,\n",
        "            \"interval\": \"step\",\n",
        "            \"frequency\": 1,\n",
        "            \"monitor\": \"val_losses/val_loss_epoch\",\n",
        "        }\n",
        "        print(lr_scheduler)\n",
        "        print(optimizer)\n",
        "        return [optimizer], [scheduler]"
      ],
      "id": "94715df0"
    },
    {
      "cell_type": "markdown",
      "metadata": {
        "id": "f3ac0225"
      },
      "source": [
        "## 4.2. Настройка логирования"
      ],
      "id": "f3ac0225"
    },
    {
      "cell_type": "markdown",
      "metadata": {
        "id": "cbef4bae"
      },
      "source": [
        "Для того, чтобы сохранить прогресс обучения, нужно позаботиться о нескольких вещах: \n",
        "\n",
        "1. Сохранение весов. Обычно сохраняют два файла:\n",
        "    a. Последние веса\n",
        "    b. Веса, при которых достигалась лучшая метрика на валидации\n",
        "2. Логирование метрик\n",
        "\n",
        "И для того и для другого есть Pytorch Lightning модули, которые просто нужно добавить в callbacks."
      ],
      "id": "cbef4bae"
    },
    {
      "cell_type": "markdown",
      "metadata": {
        "id": "c15d2f3a"
      },
      "source": [
        "### 4.2.1. Сохранение весов"
      ],
      "id": "c15d2f3a"
    },
    {
      "cell_type": "code",
      "execution_count": null,
      "metadata": {
        "id": "657cfeb6"
      },
      "outputs": [],
      "source": [
        "from datetime import datetime\n",
        "import os\n",
        "\n",
        "from pytorch_lightning import Trainer\n",
        "from pytorch_lightning.callbacks import LearningRateMonitor, ModelCheckpoint\n",
        "from pytorch_lightning.loggers import WandbLogger\n",
        "\n",
        "model = DBRunner()\n",
        "\n",
        "version = datetime.now().strftime(\"%Y%m%dT%H%M%S\")\n",
        "\n",
        "lr_logger = LearningRateMonitor()\n",
        "\n",
        "logs_dir = \"/content/drive/MyDrive/tmp/logs\"\n",
        "project_name = \"sber-td-course\"\n",
        "exp_name = \"test\"\n",
        "\n",
        "cfg_save_dir = os.path.join(logs_dir, project_name, exp_name)\n",
        "checkpoint_callback = ModelCheckpoint(\n",
        "    dirpath=cfg_save_dir,\n",
        "    mode=\"min\",\n",
        "    monitor=\"val_losses/val_loss_epoch\",\n",
        "    save_top_k=1,\n",
        "    verbose=True,\n",
        "    save_last=True\n",
        ")"
      ],
      "id": "657cfeb6"
    },
    {
      "cell_type": "markdown",
      "metadata": {
        "id": "7caea333"
      },
      "source": [
        "### 4.2.2. Логирование метрик"
      ],
      "id": "7caea333"
    },
    {
      "cell_type": "markdown",
      "metadata": {
        "id": "b8e808e3"
      },
      "source": [
        "Для логирования экспериментов нам понадобится Weights and Biases. Чтобы в него зайти, необходимо зарегистрироваться и авторизоваться на [сайте](https://wandb.ai/), а затем перейти в [настройки](https://wandb.ai/settings) и в разделе Api Keys скопировать ключ, а затем внести его в переменную среды `WANDB_API_KEY`."
      ],
      "id": "b8e808e3"
    },
    {
      "cell_type": "code",
      "execution_count": null,
      "metadata": {
        "id": "5a7b208b",
        "scrolled": true
      },
      "outputs": [],
      "source": [
        "os.environ['WANDB_API_KEY'] = open('/content/drive/MyDrive/ssh/wandbkey.txt').read()\n",
        "logger = WandbLogger(\n",
        "    save_dir=logs_dir,\n",
        "    project=project_name,\n",
        "    name=exp_name,\n",
        ")"
      ],
      "id": "5a7b208b"
    },
    {
      "cell_type": "code",
      "source": [
        "# wandb.finish()"
      ],
      "metadata": {
        "id": "uOa29DyaPrnV"
      },
      "id": "uOa29DyaPrnV",
      "execution_count": null,
      "outputs": []
    },
    {
      "cell_type": "markdown",
      "metadata": {
        "id": "7d2f2e95"
      },
      "source": [
        "## 4.3. Запуск обучения"
      ],
      "id": "7d2f2e95"
    },
    {
      "cell_type": "markdown",
      "metadata": {
        "id": "8023d3ab"
      },
      "source": [
        "Все готово для запуска процесса обучения. Создадим тренировщик и вызовем `fit`."
      ],
      "id": "8023d3ab"
    },
    {
      "cell_type": "code",
      "execution_count": null,
      "metadata": {
        "id": "5bd5f77a",
        "scrolled": true
      },
      "outputs": [],
      "source": [
        "trainer = Trainer(\n",
        "    callbacks=[checkpoint_callback, lr_logger],\n",
        "    logger=logger,\n",
        "    gpus=[0],\n",
        "    min_epochs=1,\n",
        "    max_epochs=20,\n",
        "    gradient_clip_val=0.5,\n",
        ")"
      ],
      "id": "5bd5f77a"
    },
    {
      "cell_type": "markdown",
      "source": [
        "В Google Colab прогресс каждой эпохи может отображаться странно, например, обновляться только тогда, когда количество батчей кратно 10 или 20. В общем, если долгое время прогрессбар обновляться не будет, значит видимо надо немного подождать... "
      ],
      "metadata": {
        "id": "wg1ibTy6NgV5"
      },
      "id": "wg1ibTy6NgV5"
    },
    {
      "cell_type": "code",
      "execution_count": null,
      "metadata": {
        "id": "42ab6e75",
        "scrolled": true
      },
      "outputs": [],
      "source": [
        "trainer.fit(model, train_dataloaders=train_dl, val_dataloaders=val_dl)"
      ],
      "id": "42ab6e75"
    },
    {
      "cell_type": "markdown",
      "metadata": {
        "id": "58f0d3ff"
      },
      "source": [
        "## 4.4. Тестирование"
      ],
      "id": "58f0d3ff"
    },
    {
      "cell_type": "markdown",
      "metadata": {
        "id": "0e004296"
      },
      "source": [
        "После того, как модель мы обучили, нам необходимо протестировать ее качество. В общем случае у нас у каждого датасета должно быть 3 части: train, val и test, но в общедоступном `HierText` части всего 2, поэтому, тестироваться будем также на валидационной выборке. \n",
        "\n",
        "Ниже написан код, который можно применить к любому датасету при тестировании: инициалиазация адаптера (у нас он уже готов), создание датасета и создание объекта `Dataloader.` После этого необходимо инициализировать `DBRunner` из самых лучших сохраненных весов и запустить тест. "
      ],
      "id": "0e004296"
    },
    {
      "cell_type": "code",
      "execution_count": null,
      "metadata": {
        "id": "d1cf616f"
      },
      "outputs": [],
      "source": [
        "test_adapters = [\n",
        "    ('hiertext', val_hiertext_adapter),\n",
        "]\n",
        "\n",
        "num_workers = os.cpu_count()\n",
        "batch_size = 16\n",
        "\n",
        "test_transform = size_transform\n",
        "\n",
        "test_dls = []\n",
        "\n",
        "for (adapter_name, adapter) in test_adapters:\n",
        "    test_dataset = DBDataset(\n",
        "        adapters=[adapter], \n",
        "        transforms=test_transform,\n",
        "        post_transforms=post_transform\n",
        "    )\n",
        "    test_dl = DataLoader(\n",
        "        test_dataset,\n",
        "        batch_size=batch_size,\n",
        "        num_workers=num_workers,\n",
        "        collate_fn=collate, \n",
        "        worker_init_fn=worker_init_fn, \n",
        "        pin_memory=True, \n",
        "        shuffle=False, \n",
        "        drop_last=False\n",
        "    )\n",
        "    test_dls.append((adapter_name, test_dl))"
      ],
      "id": "d1cf616f"
    },
    {
      "cell_type": "code",
      "execution_count": null,
      "metadata": {
        "id": "63ff3403",
        "scrolled": true
      },
      "outputs": [],
      "source": [
        "model = DBRunner.load_from_checkpoint('/content/drive/MyDrive/tmp/logs/sber-td-course/test/epoch=17-step=1134.ckpt')\n",
        "\n",
        "for (dl_name, dl) in test_dls:\n",
        "    print(dl_name)\n",
        "    trainer.test(model=model, dataloaders=dl)"
      ],
      "id": "63ff3403"
    },
    {
      "cell_type": "markdown",
      "metadata": {
        "id": "d8cbf350"
      },
      "source": [
        "# 5. Экспорт модели"
      ],
      "id": "d8cbf350"
    },
    {
      "cell_type": "markdown",
      "metadata": {
        "id": "a303cf2e"
      },
      "source": [
        "Если хранить веса в формате .ckpt или .pth, то каждый раз для инференса необходимо иметь код модели. Этого можно избежать благодаря [TorchScript](https://pytorch.org/docs/stable/jit.html). Данный фреймворк позволяет нам сериализовать модели и загружать их для инференса буквально в одну строку."
      ],
      "id": "a303cf2e"
    },
    {
      "cell_type": "markdown",
      "metadata": {
        "id": "1255992a"
      },
      "source": [
        "### Задача 8. Экспорт модели"
      ],
      "id": "1255992a"
    },
    {
      "cell_type": "markdown",
      "metadata": {
        "id": "4f06b47f"
      },
      "source": [
        "Загрузите модель из вашего лучшего чекпоинта и сохранить ее в формате JIT. Что для этого понадобится:\n",
        "\n",
        "- загрузить модель из чекпоинта в `DBRunner`;\n",
        "- вытащить из раннера саму модель;\n",
        "- создать пример входного тензора (например, размера 1, 3, 512, 512);\n",
        "- оптимизировать модель с помощью метода `torch.jit.trace` (кроме первых двух параметров все остальное не слишком важно в нашем случае);\n",
        "- сохранить модель на диск в путь `jit_path`."
      ],
      "id": "4f06b47f"
    },
    {
      "cell_type": "markdown",
      "metadata": {
        "id": "2212982f"
      },
      "source": [
        "#### Код"
      ],
      "id": "2212982f"
    },
    {
      "cell_type": "code",
      "execution_count": null,
      "metadata": {
        "id": "dcce956b"
      },
      "outputs": [],
      "source": [
        "from typing import Type\n",
        "\n",
        "# КОД ДЛЯ СТУДЕНТА\n",
        "def jit_save(checkpoint_path: str, jit_path: str, runner_class: Type[DBRunner]) -> None:\n",
        "    pass"
      ],
      "id": "dcce956b"
    },
    {
      "cell_type": "markdown",
      "metadata": {
        "id": "2b92a016"
      },
      "source": [
        "#### Проверка"
      ],
      "id": "2b92a016"
    },
    {
      "cell_type": "code",
      "execution_count": null,
      "metadata": {
        "id": "bf4a4a4b"
      },
      "outputs": [],
      "source": [
        "checkpoint_path = '/path/to/best/checkpoint.ckpt'\n",
        "jit_path = '/path/to/saved/model.jit'\n",
        "jit_save(checkpoint_path, jit_path, DBRunner)\n",
        "\n",
        "path_msg = 'Модель сохранилась по неправильному пути.'\n",
        "assert os.path.exists(jit_path), path_msg\n",
        "original_model = DBRunner.load_from_checkpoint(checkpoint_path).model.eval()\n",
        "saved_model = torch.jit.load(jit_path).eval()\n",
        "type_msg = 'Модель сохранилась в непарвильном формате. Точно был вызван метод torch.jit.trace?'\n",
        "assert isinstance(saved_model, torch.jit._script.RecursiveScriptModule), type_msg\n",
        "inp = torch.rand(1, 3, 512, 512)\n",
        "infer_msg = 'Выход из экспортированной модели не совпадает с выходом из оригинальной модели.'\n",
        "with torch.no_grad():\n",
        "    assert torch.allclose(original_model(inp), saved_model(inp)), infer_msg"
      ],
      "id": "bf4a4a4b"
    },
    {
      "cell_type": "markdown",
      "metadata": {
        "id": "7fe19438"
      },
      "source": [
        "# 6. Inference"
      ],
      "id": "7fe19438"
    },
    {
      "cell_type": "markdown",
      "metadata": {
        "id": "4a71817d"
      },
      "source": [
        "Наконец, у нас есть сериализованная для продуктового использования модель. Теперь для использования этой модели необходимо сделать обвязку на языке программирования, на котором написано приложение, в котором будет использоваться модель. Для примера напишем обвязку на языке python, однако идея обвязки на других языках программирования будет такой же. Единственное, как правило, python гораздо более интерактивен по сравнению с другими языками, даже интерпретируемыми.\n",
        "\n",
        "Цель обвязки -- сделать предсказание для одного произвольного изображения. Этот процесс также называется inference, использование модели в продуктовом цикле."
      ],
      "id": "4a71817d"
    },
    {
      "cell_type": "markdown",
      "metadata": {
        "id": "ffee4fff"
      },
      "source": [
        "### Задача 8. Inference"
      ],
      "id": "ffee4fff"
    },
    {
      "cell_type": "markdown",
      "metadata": {
        "id": "06aa770e"
      },
      "source": [
        "Необходимо реализовать метод, принимающий на вход модель и изображение и возвращающий предсказанные ббоксы. "
      ],
      "id": "06aa770e"
    },
    {
      "cell_type": "markdown",
      "metadata": {
        "id": "3e9c55d6"
      },
      "source": [
        "#### Код"
      ],
      "id": "3e9c55d6"
    },
    {
      "cell_type": "code",
      "execution_count": null,
      "metadata": {
        "id": "e1d70e51"
      },
      "outputs": [],
      "source": [
        "from typing import Union\n",
        "\n",
        "from albumentations import BasicTransform, Compose, OneOf\n",
        "\n",
        "# КОД ДЛЯ СТУДЕНТА\n",
        "def inference(\n",
        "    model: nn.Module, \n",
        "    image: np.ndarray, \n",
        "    preprocessor: Union[BasicTransform, Compose, OneOf],\n",
        "    postprocessor: Postprocessor,\n",
        "    device: str = 'cpu',\n",
        ") -> List[np.ndarray]:\n",
        "    # подготовка изображения (c помощью preprocessor)\n",
        "    ...\n",
        "    # предсказание модели (с помощью model)\n",
        "    ...\n",
        "    # постпроцессинг предсказаний (с помощью postprocessor)\n",
        "    ...\n",
        "    pass\n",
        "\n",
        "preprocessor = ...  # преобразование изображений\n",
        "postprocessor = ...  # объект класса Postprocessor"
      ],
      "id": "e1d70e51"
    },
    {
      "cell_type": "markdown",
      "metadata": {
        "id": "b48ea8e3"
      },
      "source": [
        "#### Проверка"
      ],
      "id": "b48ea8e3"
    },
    {
      "cell_type": "code",
      "execution_count": null,
      "metadata": {
        "id": "1f048c5c"
      },
      "outputs": [],
      "source": [
        "model = torch.jit.load('/path/to/saved/model.jit')\n",
        "model.eval()\n",
        "\n",
        "image = cv2.imread(base_folder+'examples/example4.jpeg')\n",
        "image = cv2.cvtColor(image, cv2.COLOR_BGR2RGB)\n",
        "image = cv2.resize(image, (2048, 2048))\n",
        "\n",
        "bboxes = inference(model, image, preprocessor, postprocessor, 'cpu')\n",
        "assert isinstance(bboxes, list), 'Метод inference должен возвращать список.'\n",
        "assert len(bboxes) > 0, 'Метод inference вернул пустой список. Точно модель достаточно обучена?'\n",
        "for bbox in bboxes:\n",
        "  assert isinstance(bbox, np.ndarray), 'Каждый bbox должен быть формата np.ndarray.'\n",
        "  assert len(bbox == 4), 'Каждый bbox должен иметь ровно 4 точки.'\n",
        "bboxes = inference(model, image, preprocessor, postprocessor, 'cuda:0')  # проверка на GPU"
      ],
      "id": "1f048c5c"
    },
    {
      "cell_type": "code",
      "execution_count": null,
      "metadata": {
        "id": "47c0c2e8"
      },
      "outputs": [],
      "source": [
        "# визуализация предсказаний\n",
        "plt.figure(figsize=(15,20))\n",
        "plt.imshow(DrawMore.draw_contours(image, bboxes, thickness=1))\n",
        "plt.show()"
      ],
      "id": "47c0c2e8"
    },
    {
      "cell_type": "markdown",
      "metadata": {
        "id": "2cb78e71"
      },
      "source": [
        "# 7. Подведение итогов"
      ],
      "id": "2cb78e71"
    },
    {
      "cell_type": "markdown",
      "metadata": {
        "id": "95921904"
      },
      "source": [
        "Итак, мы проделали большую работу и закончили первый блок нашего курса. Давайте резюмируем, что мы изучили в теории и на практике: \n",
        "\n",
        "- Со всех сторон рассмотрели один из самых больших открытых датасетов для детекции текста - `HierText` и научились обрабатывать данные для обучения модели детекции текста; \n",
        "- Познакомились с аугментациями для изображений; \n",
        "- Полностью реализовали модель детекции текста DB по статье (и небольшим подсказкам) и подробно изучили, из чего она состоит;\n",
        "- Изучили метрики и функции потерь в задаче детекции текста; \n",
        "- Обучили модель с кастомным логированием с помощью `pytorch-lightning` и `wandb`;\n",
        "- Научились экспортировать модель в удобный формат для инференса - `TorchScript`;\n",
        "- Написали метод для инференса обученной нами модели детекции текста, который в дальнейшем можно будет встроить в общий пайплайн обработки документов. \n",
        "\n",
        "Была проделана большая работа, но впереди еще больше! В качестве домашнего задания будет оптимизация гиперпараметров обучения для того, чтобы побить метрику первого обучения. Удачи! "
      ],
      "id": "95921904"
    },
    {
      "cell_type": "code",
      "source": [],
      "metadata": {
        "id": "gV2vUU-8FHCb"
      },
      "id": "gV2vUU-8FHCb",
      "execution_count": null,
      "outputs": []
    }
  ],
  "metadata": {
    "colab": {
      "collapsed_sections": [],
      "provenance": [],
      "machine_shape": "hm"
    },
    "kernelspec": {
      "display_name": "Python 3.9.12 ('base')",
      "language": "python",
      "name": "python3"
    },
    "language_info": {
      "codemirror_mode": {
        "name": "ipython",
        "version": 3
      },
      "file_extension": ".py",
      "mimetype": "text/x-python",
      "name": "python",
      "nbconvert_exporter": "python",
      "pygments_lexer": "ipython3",
      "version": "3.9.12"
    },
    "vscode": {
      "interpreter": {
        "hash": "c6db8c5fd8d01916d37fe0e434dd319f9a651ecb2238db7761235e698e9c3eab"
      }
    },
    "accelerator": "GPU",
    "gpuClass": "standard"
  },
  "nbformat": 4,
  "nbformat_minor": 5
}